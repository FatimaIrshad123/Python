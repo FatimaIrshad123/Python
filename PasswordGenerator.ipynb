{
  "nbformat": 4,
  "nbformat_minor": 0,
  "metadata": {
    "colab": {
      "provenance": [],
      "authorship_tag": "ABX9TyNWv/TqTEYxaQe50RubCJt2",
      "include_colab_link": true
    },
    "kernelspec": {
      "name": "python3",
      "display_name": "Python 3"
    },
    "language_info": {
      "name": "python"
    }
  },
  "cells": [
    {
      "cell_type": "markdown",
      "metadata": {
        "id": "view-in-github",
        "colab_type": "text"
      },
      "source": [
        "<a href=\"https://colab.research.google.com/github/FatimaIrshad123/Python/blob/main/PasswordGenerator.ipynb\" target=\"_parent\"><img src=\"https://colab.research.google.com/assets/colab-badge.svg\" alt=\"Open In Colab\"/></a>"
      ]
    },
    {
      "cell_type": "code",
      "execution_count": null,
      "metadata": {
        "colab": {
          "base_uri": "https://localhost:8080/"
        },
        "id": "9zv9C78iqr_k",
        "outputId": "c1dd4706-7127-49f9-b07c-db66cdadd496"
      },
      "outputs": [
        {
          "output_type": "stream",
          "name": "stdout",
          "text": [
            "Welcome to the password generator!\n",
            "Amount of passwords to generate: 2\n",
            "Input your password length: 2\n",
            "7b\n",
            "Q3\n"
          ]
        }
      ],
      "source": [
        "  import random\n",
        "\n",
        "print(\"Welcome to the password generator!\")\n",
        "chars = \"abcdefghijklmnopqrstuvwxyzABCDEFGHIJKLMNOPQRSTUVWXYZ!@#$%^&*()1234567890\"\n",
        "number = input(\"Amount of passwords to generate: \")\n",
        "number = int(number)\n",
        "length = input(\"Input your password length: \")\n",
        "length = int(length)\n",
        "\n",
        "for pwd in range(number):\n",
        "    passwords = \"\"\n",
        "    for c in range(length):\n",
        "        passwords += random.choice(chars)\n",
        "    print(passwords)\n"
      ]
    }
  ]
}